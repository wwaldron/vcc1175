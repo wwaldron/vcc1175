{
 "cells": [
  {
   "cell_type": "markdown",
   "id": "53e244d9-b121-4eef-b882-49e33b503bc3",
   "metadata": {},
   "source": [
    "# VCC 1175 - NED Downloader\n",
    "\n",
    "<div class=\"alert alert-block alert-info\">\n",
    "    <b>Note:</b> This notebook should be run with the <span style=\"font-family: 'Ariel', monospace;\">stenv</span> environment.\n",
    "</div>"
   ]
  },
  {
   "cell_type": "markdown",
   "id": "41c5323d-b041-4de6-81fe-159cf425badb",
   "metadata": {},
   "source": [
    "## Imports"
   ]
  },
  {
   "cell_type": "code",
   "execution_count": null,
   "id": "41b45e13-d64b-406f-9298-85440b985e3a",
   "metadata": {
    "tags": []
   },
   "outputs": [],
   "source": [
    "# Python Imports\n",
    "import os\n",
    "from pathlib import Path\n",
    "\n",
    "# Astropy Collaboration\n",
    "from astroquery.ipac.ned import Ned"
   ]
  },
  {
   "cell_type": "markdown",
   "id": "cb1f5c1a",
   "metadata": {},
   "source": [
    "## Notebook Setup"
   ]
  },
  {
   "cell_type": "code",
   "execution_count": null,
   "id": "b40ae539",
   "metadata": {},
   "outputs": [],
   "source": [
    "# Check Directory\n",
    "if Path.cwd().name != \"NED\":\n",
    "    if Path.cwd().name == \"Notebooks\":\n",
    "        os.chdir(\"../Data/NED\")\n",
    "    else:\n",
    "        raise RuntimeError(\"This notebook must be run from the NED directory.\")\n",
    "print(f'Current Directory: {Path.cwd()}')"
   ]
  },
  {
   "cell_type": "markdown",
   "id": "daa7e3c1-b687-4ab4-849e-698a0b06ce21",
   "metadata": {},
   "source": [
    "## Download the Data"
   ]
  },
  {
   "cell_type": "code",
   "execution_count": null,
   "id": "d475f189-5ce9-4dd2-9a03-14e50db23cb8",
   "metadata": {
    "tags": []
   },
   "outputs": [],
   "source": [
    "# Download by Object\n",
    "dataTable = Ned.query_object('VCC 1175')"
   ]
  },
  {
   "cell_type": "code",
   "execution_count": null,
   "id": "945095af-0b93-4c97-97a0-2727ce063191",
   "metadata": {
    "tags": []
   },
   "outputs": [],
   "source": [
    "# Save the Table to a File\n",
    "# Note that Coords seem to be in Fk5, J2000\n",
    "dataTable.write('VCC1175-NED_Data.ecsv', format='ascii.ecsv', overwrite=True)"
   ]
  }
 ],
 "metadata": {
  "kernelspec": {
   "display_name": "stenv",
   "language": "python",
   "name": "python3"
  },
  "language_info": {
   "codemirror_mode": {
    "name": "ipython",
    "version": 3
   },
   "file_extension": ".py",
   "mimetype": "text/x-python",
   "name": "python",
   "nbconvert_exporter": "python",
   "pygments_lexer": "ipython3",
   "version": "3.12.4"
  }
 },
 "nbformat": 4,
 "nbformat_minor": 5
}
