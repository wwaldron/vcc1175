{
 "cells": [
  {
   "attachments": {},
   "cell_type": "markdown",
   "id": "1ea3a269-46d2-452d-b85e-23e36d8d1af1",
   "metadata": {},
   "source": [
    "# [GALAXY] - GAIA Download\n",
    "\n",
    "<div class=\"alert alert-block alert-info\">\n",
    "    <b>Note:</b> This notebook should be run with the <span style=\"font-family: 'Ariel', monospace;\">stenv</span> environment\n",
    "    where the <span style=\"font-family: 'Ariel', monospace;\">regions</span> package has been added if not in the current\n",
    "    version of <span style=\"font-family: 'Ariel', monospace;\">stenv</span>.\n",
    "</div>"
   ]
  },
  {
   "attachments": {},
   "cell_type": "markdown",
   "id": "474a82b5-0e60-4b07-a702-ebba92a9bb90",
   "metadata": {},
   "source": [
    "## Imports"
   ]
  },
  {
   "cell_type": "code",
   "execution_count": null,
   "id": "3b0b0da1-43e6-47e1-adf7-f29213a95ac0",
   "metadata": {
    "tags": []
   },
   "outputs": [],
   "source": [
    "# Python Imports\n",
    "import os\n",
    "from pathlib import Path\n",
    "from glob import iglob\n",
    "\n",
    "# Astropy Collab Imports\n",
    "from astropy import units as u\n",
    "from astropy.io import fits\n",
    "from astropy.table import Table, QTable\n",
    "from astropy.coordinates import SkyCoord\n",
    "from astropy.wcs import WCS\n",
    "from astroquery.gaia import Gaia\n",
    "from regions import PointSkyRegion, Regions"
   ]
  },
  {
   "cell_type": "markdown",
   "id": "f2f4abf4",
   "metadata": {},
   "source": [
    "## Notebook Setup"
   ]
  },
  {
   "cell_type": "code",
   "execution_count": null,
   "id": "88cc0d93",
   "metadata": {},
   "outputs": [],
   "source": [
    "# Get the Notebook's Directory and ChangeDir to it\n",
    "NOTEBOOK_DIR = Path(__file__).resolve().parent\n",
    "os.chdir(NOTEBOOK_DIR)"
   ]
  },
  {
   "attachments": {},
   "cell_type": "markdown",
   "id": "6a9f6d43-23b2-4dc7-8037-6d56f4fd438f",
   "metadata": {},
   "source": [
    "## Load External Data"
   ]
  },
  {
   "attachments": {},
   "cell_type": "markdown",
   "id": "a4dc80d3-a928-4cb3-8b95-5fca97c7486a",
   "metadata": {},
   "source": [
    "### Load Galaxy Data"
   ]
  },
  {
   "cell_type": "code",
   "execution_count": null,
   "id": "0b5d2505-7da3-47ea-a920-62a3364ed257",
   "metadata": {
    "tags": []
   },
   "outputs": [],
   "source": [
    "# Get the NED Data\n",
    "nedDataTable = Table.read('../NED/[GALAXY_SHORT]-NED_Data.ecsv')"
   ]
  },
  {
   "cell_type": "code",
   "execution_count": null,
   "id": "68a9cf5c-90f3-42ec-95ea-a041f45865fb",
   "metadata": {
    "tags": []
   },
   "outputs": [],
   "source": [
    "# Get the Coordinates\n",
    "galCrd = SkyCoord(\n",
    "    ra=nedDataTable['RA'][0],\n",
    "    dec=nedDataTable['DEC'][0],\n",
    "    unit='deg',\n",
    "    frame='fk5'\n",
    ")"
   ]
  },
  {
   "attachments": {},
   "cell_type": "markdown",
   "id": "a092e7ae-afe9-49d6-b98b-7da4f7278751",
   "metadata": {},
   "source": [
    "### Load Images and get Frames"
   ]
  },
  {
   "cell_type": "code",
   "execution_count": null,
   "id": "e871c67c-f359-433d-abda-a67d5da6ce47",
   "metadata": {
    "tags": []
   },
   "outputs": [],
   "source": [
    "# Load Images\n",
    "frames = []\n",
    "for fn in iglob('../../Images/mastDownload/HST/**/*flc.fits'):\n",
    "\n",
    "    # Open file for Reading\n",
    "    with fits.open(fn) as hduList:\n",
    "\n",
    "        frame = WCS(hduList['SCI', 1], hduList).to_header()['RADESYS']\n",
    "        if frame not in frames:\n",
    "            frames.append(frame)\n",
    "\n",
    "print(frames)"
   ]
  },
  {
   "attachments": {},
   "cell_type": "markdown",
   "id": "31714aa5-bbf3-4ac5-adea-252b95298085",
   "metadata": {},
   "source": [
    "## Get the GAIA Data"
   ]
  },
  {
   "cell_type": "code",
   "execution_count": null,
   "id": "8dd7dca2-ca92-415b-ba04-2e31fc76eaa1",
   "metadata": {
    "tags": []
   },
   "outputs": [],
   "source": [
    "# Get the Object Table\n",
    "# Note that GAIA aligns to ICRS\n",
    "Gaia.ROW_LIMIT = -1  # Turn off the GAIA Row Limit\n",
    "objTable = Gaia.query_object_async(galCrd.icrs, radius=2*u.arcmin)\n",
    "\n",
    "# Print Number of Sources Found\n",
    "print(f'Found {len(objTable):d} Objects')"
   ]
  },
  {
   "attachments": {},
   "cell_type": "markdown",
   "id": "a71a112a-2af9-42e5-9a6d-bfc49dabd4eb",
   "metadata": {},
   "source": [
    "### Write Output to Various Formats"
   ]
  },
  {
   "cell_type": "code",
   "execution_count": null,
   "id": "618c3434-ce84-42b2-b9d3-772fb663082f",
   "metadata": {
    "tags": []
   },
   "outputs": [],
   "source": [
    "# Write out the Full Table\n",
    "objTable.write('[GALAXY_SHORT]-GAIA-AlignmentStars.ecsv', overwrite=True)"
   ]
  },
  {
   "cell_type": "code",
   "execution_count": null,
   "id": "5d4ea428-36c3-49ea-b099-eb8d5bc5cbc1",
   "metadata": {
    "tags": []
   },
   "outputs": [],
   "source": [
    "# Get the Coordinates for Writing\n",
    "# SkyCoord Defaults to ICRS\n",
    "objCoords = SkyCoord(\n",
    "    ra=objTable['ra'],\n",
    "    dec=objTable['dec']\n",
    ")\n",
    "\n",
    "# Write Coordinates to File\n",
    "# Unpack with\n",
    "# QTable.read('[GALAXY_SHORT]-GAIA-AlignmentStars-Coordinates.ecsv')['SkyCoord']\n",
    "QTable([objCoords], names=['SkyCoord']).write('[GALAXY_SHORT]-GAIA-AlignmentStars-Coordinates.ecsv', overwrite=True)"
   ]
  },
  {
   "cell_type": "code",
   "execution_count": null,
   "id": "36db69d8-2206-419a-bb86-276cf7f1c50a",
   "metadata": {
    "tags": []
   },
   "outputs": [],
   "source": [
    "# Get as DS9 Regions\n",
    "regs = Regions([])\n",
    "for crd in objCoords:\n",
    "    regs.append(PointSkyRegion(crd))\n",
    "\n",
    "# Write to DS9 Region File\n",
    "regs.write('[GALAXY_SHORT]-GAIA-AlignmentStars-Coordinates.reg', overwrite=True)\n",
    "\n",
    "# Change Display Style to 'x'\n",
    "with open('[GALAXY_SHORT]-GAIA-AlignmentStars-Coordinates.reg', 'r') as fid:\n",
    "\n",
    "    # Get all the Lines\n",
    "    lines = fid.readlines()\n",
    "\n",
    "# Add the New Line\n",
    "lines.insert(1, 'global point=x color=cyan\\n')\n",
    "\n",
    "with open('[GALAXY_SHORT]-GAIA-AlignmentStars-Coordinates.reg', 'w') as fid:\n",
    "\n",
    "    # Write all the Lines\n",
    "    fid.writelines(lines)"
   ]
  },
  {
   "cell_type": "code",
   "execution_count": null,
   "id": "adaca877-db9b-40f0-8368-bac6d6950ddf",
   "metadata": {
    "tags": []
   },
   "outputs": [],
   "source": [
    "# Write as RA, Dec Catalog for TweakReg\n",
    "with open('[GALAXY_SHORT]-GAIA-RefCatalog-icrs.txt', 'w') as fid:\n",
    "\n",
    "    # Loop Through Sources\n",
    "    for crd in objCoords:\n",
    "\n",
    "        # From TweakReg\n",
    "        # 'Catalog files themselves must be text files containing \"white space\"-separated list of values'\n",
    "        fid.write(f'{crd.icrs.ra.value:<20.8f} {crd.icrs.dec.value:<20.8f}\\n')"
   ]
  }
 ],
 "metadata": {
  "kernelspec": {
   "display_name": "Python [conda env:stenv]",
   "language": "python",
   "name": "conda-env-stenv-py"
  },
  "language_info": {
   "codemirror_mode": {
    "name": "ipython",
    "version": 3
   },
   "file_extension": ".py",
   "mimetype": "text/x-python",
   "name": "python",
   "nbconvert_exporter": "python",
   "pygments_lexer": "ipython3",
   "version": "3.11.3"
  }
 },
 "nbformat": 4,
 "nbformat_minor": 5
}
