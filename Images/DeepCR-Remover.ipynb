{
 "cells": [
  {
   "cell_type": "markdown",
   "id": "ba138fa2-d76a-4bb2-ae94-a44c31249f2a",
   "metadata": {},
   "source": [
    "# VCC 1175 DeepCR Remover\n",
    "\n",
    "<div class=\"alert alert-block alert-info\">\n",
    "    <b>Note:</b> This notebook should be run with the <span style=\"font-family: 'Ariel', monospace;\">DCR</span> environment.\n",
    "    DeepCR has some issues with how the software has been updated. Within your environment, it may be necessary to implement\n",
    "    the <a href=\"https://github.com/ebertin/deepCR/commit/e42eb1677155dd4edc12c9f9a1ab638c6ad4f195\">changes introduced\n",
    "    by Emanual Bertin</a>.\n",
    "</div>\n",
    "\n",
    "I have had some trouble removing CRs with AstroScrappy so this is an attempt to remove CRs with DeepCR instead."
   ]
  },
  {
   "cell_type": "markdown",
   "id": "154a4134-7787-4470-b047-d771a3ed0522",
   "metadata": {},
   "source": [
    "## Imports"
   ]
  },
  {
   "cell_type": "code",
   "execution_count": null,
   "id": "f07896bd-434d-4e52-bda5-5bf65b219a20",
   "metadata": {
    "tags": []
   },
   "outputs": [],
   "source": [
    "# Python Imports\n",
    "import os\n",
    "from pathlib import Path\n",
    "\n",
    "# Astropy Colab Imports\n",
    "from astropy.io import fits\n",
    "\n",
    "# Other Astronomy Imports\n",
    "from deepCR import deepCR"
   ]
  },
  {
   "cell_type": "markdown",
   "id": "9f1ed511",
   "metadata": {},
   "source": [
    "## Notebook Setup"
   ]
  },
  {
   "cell_type": "code",
   "execution_count": null,
   "id": "d8e2d43d",
   "metadata": {},
   "outputs": [],
   "source": [
    "# Check Directory\n",
    "if Path.cwd().name != \"Images\":\n",
    "    if Path.cwd().name == \"Notebooks\":\n",
    "        os.chdir(\"../Images\")\n",
    "    else:\n",
    "        RuntimeError(\"This notebook must be run from the Images directory.\")\n",
    "print(f\"Current Directory: {Path.cwd()}\")"
   ]
  },
  {
   "cell_type": "code",
   "execution_count": null,
   "id": "5f83cda3-7e07-4327-a3a9-b4f9c6e03f45",
   "metadata": {
    "tags": []
   },
   "outputs": [],
   "source": [
    "# Data Directory\n",
    "DATA_DIR = Path('mastDownload/HST')\n",
    "\n",
    "# FLC Glob Pattern\n",
    "FLC_GLOB = DATA_DIR.rglob('*[!crclean]_fl?.fits')"
   ]
  },
  {
   "cell_type": "markdown",
   "id": "71e1e0cc-def2-4633-898e-88e0bf1bdfa7",
   "metadata": {},
   "source": [
    "## Store File Name Data"
   ]
  },
  {
   "cell_type": "code",
   "execution_count": null,
   "id": "8ef223ba-4363-44cb-b5d1-b640886c9df1",
   "metadata": {
    "tags": []
   },
   "outputs": [],
   "source": [
    "# Get the File Names and Sort them by filter\n",
    "fileNameDict = {}\n",
    "for fn in FLC_GLOB:\n",
    "\n",
    "    # Open the file to get the filter\n",
    "    with fits.open(fn) as hduList:\n",
    "        hdr = hduList[0].header  # Get the Header\n",
    "        if 'FILTER' in hdr:      # If the FILTER keyword exists (WFC3)\n",
    "            filt = hdr['FILTER']\n",
    "        elif 'CLEAR' not in hdr['FILTER1']:  # If FILTER1 is not clear (ACS)\n",
    "            filt = hdr['FILTER1']\n",
    "        else:                                # Else FILTER2 must be the filter (ACS)\n",
    "            filt = hdr['FILTER2']\n",
    "\n",
    "    # Store the Name using the filter as the dict key\n",
    "    # Start the Empty List if Key does not exist\n",
    "    if filt not in fileNameDict:\n",
    "        fileNameDict[filt] = []\n",
    "    fileNameDict[filt].append(fn)"
   ]
  },
  {
   "cell_type": "markdown",
   "id": "87c53c16-9427-431d-a45e-73ec338a8667",
   "metadata": {},
   "source": [
    "## Remove CRs"
   ]
  },
  {
   "cell_type": "markdown",
   "id": "900d6939-e570-4f1d-911c-ce8473e093dd",
   "metadata": {},
   "source": [
    "### Remove F814W CRs"
   ]
  },
  {
   "cell_type": "code",
   "execution_count": null,
   "id": "bd8a476c-1a1d-4d0c-83a5-6eec8d15e737",
   "metadata": {
    "tags": []
   },
   "outputs": [],
   "source": [
    "# Create the Model\n",
    "mdl = deepCR(\n",
    "    mask='ACS-WFC-F814W',\n",
    "    device='GPU'\n",
    ")"
   ]
  },
  {
   "cell_type": "code",
   "execution_count": null,
   "id": "d6f4bd58-0298-4b24-9ad5-db20fa978a5c",
   "metadata": {
    "tags": []
   },
   "outputs": [],
   "source": [
    "# Loop Through Files\n",
    "for fn in fileNameDict['F814W']:\n",
    "\n",
    "    # Out Name\n",
    "    outName = fn.with_name(fn.name.replace('flc.fits', 'crclean_flc.fits'))\n",
    "\n",
    "    # Open Image\n",
    "    with fits.open(fn) as hduList:\n",
    "\n",
    "        # Get Cleaned Arrays\n",
    "        crmsk1, crarr1 = mdl.clean(\n",
    "            hduList['SCI', 1].data, #threshold=0.4,\n",
    "            binary=True,\n",
    "            inpaint=True, n_jobs=1)\n",
    "        crmsk2, crarr2 = mdl.clean(\n",
    "            hduList['SCI', 2].data, #threshold=0.4,\n",
    "            binary=True,\n",
    "            inpaint=True, n_jobs=1)\n",
    "\n",
    "        # Write the Output Data\n",
    "        outList = hduList.copy()  # Copy the Original File\n",
    "        outList[0].header.add_history('CRs removed with DeepCR')  # Update comment about processing\n",
    "        outList[0].header.add_comment('Created by Will Waldron, UAH')\n",
    "        outList[0].header.add_comment('Created with pipeline at https://github.com/wwaldron/galred')\n",
    "        outList['SCI', 1].data = crarr1.astype('float32')  # Change the old SCI image for CR Removed img\n",
    "        outList['DQ', 1].data[crmsk1.astype(bool)] |= 2  # Mark DQ array as \"Data replaced by fill\"\n",
    "        outList.insert(4, fits.ImageHDU(crmsk1.astype('uint8'), hduList['SCI', 1].header, 'MSK'))\n",
    "        outList['SCI', 2].data = crarr2.astype('float32')\n",
    "        outList['DQ', 2].data[crmsk1.astype(bool)] |= 2  # Mark DQ array as \"Data replaced by fill\"\n",
    "        outList.insert(8, fits.ImageHDU(crmsk2.astype('uint8'), hduList['SCI', 2].header, 'MSK'))\n",
    "        outList.writeto(outName, overwrite=True)"
   ]
  },
  {
   "cell_type": "markdown",
   "id": "c892a8a2-b8d8-4474-a397-81f5d29fd12a",
   "metadata": {},
   "source": [
    "### Remove F475W CRs"
   ]
  },
  {
   "cell_type": "code",
   "execution_count": null,
   "id": "e7009fa2-4850-415f-92c0-3bfe5f846302",
   "metadata": {
    "tags": []
   },
   "outputs": [],
   "source": [
    "# Create the Model\n",
    "mdl = deepCR(\n",
    "    mask='ACS-WFC-F435W',\n",
    "    device='GPU'\n",
    ")"
   ]
  },
  {
   "cell_type": "code",
   "execution_count": null,
   "id": "5edfa6af-b193-4be9-bb9c-4768b00e56f7",
   "metadata": {
    "tags": []
   },
   "outputs": [],
   "source": [
    "# Loop Through Files\n",
    "for fn in fileNameDict['F475W']:\n",
    "\n",
    "    # Out Name\n",
    "    outName = fn.with_name(fn.name.replace('flc.fits', 'crclean_flc.fits'))\n",
    "\n",
    "    # Open Image\n",
    "    with fits.open(fn) as hduList:\n",
    "\n",
    "        # Get Cleaned Arrays\n",
    "        crmsk1, crarr1 = mdl.clean(\n",
    "            hduList['SCI', 1].data,\n",
    "            binary=True,\n",
    "            inpaint=True, n_jobs=1\n",
    "        )\n",
    "        crmsk2, crarr2 = mdl.clean(\n",
    "            hduList['SCI', 2].data,\n",
    "            binary=True,\n",
    "            inpaint=True, n_jobs=1\n",
    "        )\n",
    "\n",
    "        # Write the Output Data\n",
    "        outList = hduList.copy()  # Copy the Original File\n",
    "        outList[0].header.add_history('CRs removed with DeepCR')  # Update comment about processing\n",
    "        outList[0].header.add_comment('Created by Will Waldron, UAH')\n",
    "        outList[0].header.add_comment('Created with pipeline at https://github.com/wwaldron/galred')\n",
    "        outList['SCI', 1].data = crarr1.astype('float32')  # Change the old SCI image for CR Removed img\n",
    "        outList['DQ', 1].data[crmsk1.astype(bool)] |= 2  # Mark DQ array as \"Data replaced by fill\"\n",
    "        outList.insert(4, fits.ImageHDU(crmsk1.astype('uint8'), hduList['SCI', 1].header, 'MSK'))\n",
    "        outList['SCI', 2].data = crarr2.astype('float32')\n",
    "        outList['DQ', 2].data[crmsk1.astype(bool)] |= 2  # Mark DQ array as \"Data replaced by fill\"\n",
    "        outList.insert(8, fits.ImageHDU(crmsk2.astype('uint8'), hduList['SCI', 2].header, 'MSK'))\n",
    "        outList.writeto(outName, overwrite=True)"
   ]
  }
 ],
 "metadata": {
  "kernelspec": {
   "display_name": "dcr",
   "language": "python",
   "name": "python3"
  },
  "language_info": {
   "codemirror_mode": {
    "name": "ipython",
    "version": 3
   },
   "file_extension": ".py",
   "mimetype": "text/x-python",
   "name": "python",
   "nbconvert_exporter": "python",
   "pygments_lexer": "ipython3",
   "version": "3.11.9"
  }
 },
 "nbformat": 4,
 "nbformat_minor": 5
}
