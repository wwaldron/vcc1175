{
 "cells": [
  {
   "cell_type": "markdown",
   "id": "637a0e8a-4df7-4740-8b75-f2d67488f0c3",
   "metadata": {},
   "source": [
    "# VCC 1175 - Image Reducer\n",
    "\n",
    "<div class=\"alert alert-block alert-info\">\n",
    "    <b>Note:</b> This notebook should be run with the <span style=\"font-family: 'Ariel', monospace;\">stenv</span> environment.\n",
    "</div>\n",
    "\n",
    "The purpose of this notebook is to reduce the FLC files from Hubble by:\n",
    "\n",
    "1. Aligning FLCs to the GAIA catalog\n",
    "2. Drizzling Images together from a particular filter\n",
    "\n",
    "## Imports"
   ]
  },
  {
   "cell_type": "code",
   "execution_count": null,
   "id": "a4534ffe-48ab-4e9c-ad7f-2a35819cab23",
   "metadata": {
    "tags": []
   },
   "outputs": [],
   "source": [
    "# Python Imports\n",
    "import os\n",
    "from pathlib import Path\n",
    "from tempfile import NamedTemporaryFile\n",
    "\n",
    "# Astropy Colab Imports\n",
    "from astropy.io import fits\n",
    "from drizzlepac.tweakreg import TweakReg\n",
    "from drizzlepac.astrodrizzle import AstroDrizzle"
   ]
  },
  {
   "cell_type": "markdown",
   "id": "77680ad3-81cd-440a-abe5-898417efde85",
   "metadata": {},
   "source": [
    "## Notebook Setup"
   ]
  },
  {
   "cell_type": "code",
   "execution_count": null,
   "id": "f006f899",
   "metadata": {},
   "outputs": [],
   "source": [
    "# Check Directory\n",
    "if Path.cwd().name != \"Images\":\n",
    "    if Path.cwd().name == \"Notebooks\":\n",
    "        os.chdir(\"../Images\")\n",
    "    else:\n",
    "        RuntimeError(\"This notebook must be run from the Images directory.\")\n",
    "print(f\"Current Directory: {Path.cwd()}\")"
   ]
  },
  {
   "cell_type": "code",
   "execution_count": null,
   "id": "49a4de68-e406-4992-a078-e628b6812333",
   "metadata": {
    "tags": []
   },
   "outputs": [],
   "source": [
    "# Data Directory\n",
    "DATA_DIR = Path('mastDownload/HST')\n",
    "\n",
    "# FLC Glob Pattern\n",
    "FLC_CR_GLOB_PAT = '*_crclean_fl?.fits'"
   ]
  },
  {
   "cell_type": "markdown",
   "id": "d5cd3424-175d-427d-ab38-6d2b191ed91d",
   "metadata": {},
   "source": [
    "## Load the Data"
   ]
  },
  {
   "cell_type": "code",
   "execution_count": null,
   "id": "26b6a90f-5641-4f2d-9123-3f28c3db4f78",
   "metadata": {
    "tags": []
   },
   "outputs": [],
   "source": [
    "# Get the File Names and Sort them by filter\n",
    "fileNameDict = {}\n",
    "for fn in DATA_DIR.rglob(FLC_CR_GLOB_PAT):\n",
    "\n",
    "    # Open the file to get the filter\n",
    "    with fits.open(fn) as hduList:\n",
    "        hdr = hduList[0].header  # Get the Header\n",
    "        if 'FILTER' in hdr:      # If the FILTER keyword exists (WFC3)\n",
    "            filt = hdr['FILTER']\n",
    "        elif 'CLEAR' not in hdr['FILTER1']:  # If FILTER1 is not clear (ACS)\n",
    "            filt = hdr['FILTER1']\n",
    "        else:                                # Else FILTER2 must be the filter (ACS)\n",
    "            filt = hdr['FILTER2']\n",
    "\n",
    "    # Store the Name using the filter as the dict key\n",
    "    # Start the Empty List if Key does not exist\n",
    "    if filt not in fileNameDict:\n",
    "        fileNameDict[filt] = []\n",
    "    fileNameDict[filt].append(fn)\n",
    "fileNameDict"
   ]
  },
  {
   "cell_type": "markdown",
   "id": "ef010d17-6a56-4741-8dfb-3502225764bb",
   "metadata": {},
   "source": [
    "## Align Images to GAIA\n",
    "\n",
    "Sometimes, the FLCs have so many CRs and so few Milky Way stars, it makes aligning the images difficult.\n",
    "In this case, a different strategy is to align the Hubble Pipeline DRCs/DRZs to GAIA using `TweakReg` then\n",
    "assigning the found WCS solution to the associated FLCs/FLTs using `TweakBack`.\n",
    "\n",
    "For an example of this strategy, consider the work documented in the [Abell 1367](https://github.com/wwaldron/a1367)\n",
    "repo on GitHub where the [Image Reducer Notebook](https://github.com/wwaldron/a1367/blob/main/Images/ImageReducer.ipynb)\n",
    "implements this methodology."
   ]
  },
  {
   "cell_type": "markdown",
   "id": "ff1b2dcc-f4e0-4fa7-a1de-b7cc6aafb3ee",
   "metadata": {},
   "source": [
    "### TweakReg Data Quality Flags\n",
    "\n",
    "This cell defines the [ACS DQ flags](https://www.stsci.edu/hst/instrumentation/acs/data-analysis/dq-flag-definitions) we\n",
    "want to ignore in the TweakReg process. The DQ flags that are most often used are:\n",
    "\n",
    "* [ACS DQ Flags](https://www.stsci.edu/hst/instrumentation/acs/data-analysis/dq-flag-definitions)\n",
    "* [WFC3-UVIS DQ Flags](https://hst-docs.stsci.edu/wfc3dhb/chapter-3-wfc3-data-calibration/3-2-uvis-data-calibration-steps#id-3.2UVISDataCalibrationSteps-3.2.3DataQualityArrayInitialization)\n",
    "* [WFC3-IR DQ Flags](https://hst-docs.stsci.edu/wfc3dhb/chapter-3-wfc3-data-calibration/3-3-ir-data-calibration-steps#id-3.3IRDataCalibrationSteps-3.3.1DataQualityInitialization)\n",
    "\n",
    "For an example of how to implement multiple DQ flags, consider the\n",
    "[Image Reducer for ESO 137-001](https://github.com/wwaldron/ESO-137-001/blob/main/Images/ImageReducer.ipynb).\n",
    "\n",
    "<div class=\"alert alert-block alert-info\">\n",
    "    <b>Note:</b> In the cells below where <span style=\"font-family: 'Ariel', monospace;\">TweakReg</span> is called,\n",
    "    the user <i>must</i> update the <span style=\"font-family: 'Ariel', monospace;\">updatehdr</span>\n",
    "    keyword to <span style=\"font-family: 'Ariel', monospace;\">True</span> and rerun the cell once a valid\n",
    "    WCS solution is found.\n",
    "    If the value is left as <span style=\"font-family: 'Ariel', monospace;\">False</span>, the header in the\n",
    "    input file will not be updated.\n",
    "</div>"
   ]
  },
  {
   "cell_type": "code",
   "execution_count": null,
   "id": "0ea2d5c2-07ff-4df9-a748-375f08ada3e0",
   "metadata": {
    "tags": []
   },
   "outputs": [],
   "source": [
    "# DQ Bits\n",
    "DQ_FILLED   = 2\n",
    "DQ_BAD_DET  = 4\n",
    "DQ_HOT_PIX  = 16\n",
    "DQ_CR_PIX   = 4096+8192\n",
    "DQ_GOOD_PIX = ~(DQ_FILLED + DQ_BAD_DET + DQ_HOT_PIX + DQ_CR_PIX) # Ignore these"
   ]
  },
  {
   "cell_type": "code",
   "execution_count": null,
   "id": "3d5a7504",
   "metadata": {},
   "outputs": [],
   "source": [
    "# Loop through Filters\n",
    "CAT_DIR = Path('align_catalogs').resolve()\n",
    "for filter, fileList in fileNameDict.items():\n",
    "\n",
    "    # Write the Catalogs to a Temporary File\n",
    "    with NamedTemporaryFile('w+t') as tempFile:\n",
    "\n",
    "        # Write the Data\n",
    "        for fn in fileList:\n",
    "            tempFile.write(f\"{fn.resolve()} \")\n",
    "            tempFile.write(f\"{CAT_DIR}/{filter}-AlignSources-xy-fk5.reg \")\n",
    "            tempFile.write(f\"{CAT_DIR}/{filter}-AlignSources-xy-fk5.reg\\n\")\n",
    "        tempFile.flush()\n",
    "        tempFile.seek(0)  # Go back to the beginning of the file\n",
    "\n",
    "        # Image Dep Search Parameters\n",
    "        threshold  = 10.0\n",
    "        conv_width = 3.5\n",
    "\n",
    "        # Align the Images to the GAIA data\n",
    "        TweakReg(\n",
    "            [str(fn) for fn in fileList],\n",
    "            updatehdr=True,\n",
    "            wcsname='GAIA',\n",
    "            clean=True,\n",
    "            configobj=None,\n",
    "            refcat='../Data/GAIA/VCC1175-GAIA-RefCatalog-icrs.txt',\n",
    "            catfile=tempFile.name,\n",
    "            xyunits='degrees',\n",
    "            runfile=f'TweakReg-GAIA-{filter}.log',\n",
    "            searchrad=0.75,\n",
    "            minobj=4,\n",
    "            tolerance=2.50,\n",
    "            interactive=False\n",
    "        )\n",
    "        # print(tempFile.read())"
   ]
  },
  {
   "cell_type": "code",
   "execution_count": null,
   "id": "c29443aa-39bd-43d4-8fe0-1d4b8578f040",
   "metadata": {
    "tags": []
   },
   "outputs": [],
   "source": [
    "%%bash\n",
    "# Move Log Files\n",
    "mkdir -p logs/tweakreg\n",
    "mv *.log logs/tweakreg\n",
    "\n",
    "# Remove Intermediate Files\n",
    "rm -f *.coo *.png"
   ]
  },
  {
   "cell_type": "markdown",
   "id": "850f371e-8d46-4f59-b725-ed670feaf1d8",
   "metadata": {},
   "source": [
    "## Drizzle Images for CR Correction\n",
    "\n",
    "Although there will be additional notes added later, it is worth noting that according to\n",
    "[STScI](https://hst-docs.stsci.edu/drizzpac/chapter-6-reprocessing-with-the-drizzlepac-package/6-3-running-astrodrizzle#id-6.3RunningAstroDrizzle-SelectingtheOptimalScaleandPixfrac):\n",
    "\n",
    "1. For sub-pixel dithered data, select an output scale that's smaller than the native scale.\n",
    "It will even help in the cosmic ray rejection step.\n",
    "1. A smaller final_pixfrac gives higher resolution and lower correlated noise, but also reduces\n",
    "sensitivity to low-surface brightness features (though it is possible to convolve a high resolution\n",
    "image later to go after low surface brightness features).\n",
    "1. Keep the standard deviation of the weight map over the main part of the image to above ~0.3 of\n",
    "the mean to insure that one does not lose significant signal-to-noise in ignoring the weight map in\n",
    "final photometry.\n",
    "\n",
    "To summarize the last step, a `final_scale`/`final_pixfrac` combo should be chosen such that,\n",
    "for the weight image,\n",
    "\\begin{equation}\n",
    "    \\mathrm{std} \\gtrsim 0.3 \\, \\mathrm{mean}\n",
    "\\end{equation}"
   ]
  },
  {
   "cell_type": "markdown",
   "id": "5184746e-d059-4b54-b209-f69658b672c7",
   "metadata": {},
   "source": [
    "### AstroDrizzle ACS Data Quality Flags\n",
    "\n",
    "* [ACS DQ Flags](https://www.stsci.edu/hst/instrumentation/acs/data-analysis/dq-flag-definitions)\n",
    "* [WFC3-UVIS DQ Flags](https://hst-docs.stsci.edu/wfc3dhb/chapter-3-wfc3-data-calibration/3-2-uvis-data-calibration-steps#id-3.2UVISDataCalibrationSteps-3.2.3DataQualityArrayInitialization)\n",
    "* [WFC3-IR DQ Flags](https://hst-docs.stsci.edu/wfc3dhb/chapter-3-wfc3-data-calibration/3-3-ir-data-calibration-steps#id-3.3IRDataCalibrationSteps-3.3.1DataQualityInitialization)"
   ]
  },
  {
   "cell_type": "code",
   "execution_count": null,
   "id": "07d029d5-486e-4da2-93c4-d472d354be12",
   "metadata": {
    "tags": []
   },
   "outputs": [],
   "source": [
    "# DQ Bits\n",
    "DQ_WARM_PIX = 64\n",
    "DQ_BAD_COL  = 128\n",
    "DQ_FULL_WELL= 256\n",
    "DQ_SINK_PIX = 1024\n",
    "DQ_GOOD_PIX = DQ_WARM_PIX + DQ_BAD_COL + DQ_FULL_WELL + DQ_SINK_PIX # Make these OK"
   ]
  },
  {
   "cell_type": "markdown",
   "id": "4b73b4ca-9625-4ecc-8c8f-87dcfebfc010",
   "metadata": {},
   "source": [
    "### Drizzle F814W Images"
   ]
  },
  {
   "cell_type": "code",
   "execution_count": null,
   "id": "727ad88a-d11f-4eeb-b155-cf12039938aa",
   "metadata": {
    "tags": []
   },
   "outputs": [],
   "source": [
    "# Drizzle Images\n",
    "AstroDrizzle(\n",
    "    [str(fn) for fn in fileNameDict['F814W']],\n",
    "    output='VCC1175-F814W',\n",
    "    runfile='F814W-Astro.log',\n",
    "    wcskey='GAIA',\n",
    "    context=False,\n",
    "    configobj=None,\n",
    "    num_cores=8,\n",
    "    in_memory=False,\n",
    "    build=True,\n",
    "    restore=False,\n",
    "    preserve=False,\n",
    "    clean=True,\n",
    "    skymethod='globalmin+match',\n",
    "    driz_sep_scale=0.03,\n",
    "    driz_sep_bits=DQ_GOOD_PIX,\n",
    "    combine_type='minmed',\n",
    "    combine_nsigma='1.25 1',\n",
    "    driz_cr_corr=False,\n",
    "    final_wht_type='IVM',\n",
    "    final_pixfrac=0.8,\n",
    "    final_bits=DQ_GOOD_PIX,\n",
    "    final_wcs=True,\n",
    "    final_rot=0,\n",
    "    final_scale=0.03\n",
    ")"
   ]
  },
  {
   "cell_type": "markdown",
   "id": "7f467a6a-8c04-4c0d-87c2-cd4fa95890c3",
   "metadata": {},
   "source": [
    "### Drizzle F475W Images"
   ]
  },
  {
   "cell_type": "code",
   "execution_count": null,
   "id": "b5d028a2-1248-4d93-b9b5-3d502c0909bc",
   "metadata": {
    "tags": []
   },
   "outputs": [],
   "source": [
    "# Drizzle Images\n",
    "AstroDrizzle(\n",
    "    [str(fn) for fn in fileNameDict['F475W']],\n",
    "    output='VCC1175-F475W',\n",
    "    runfile='F475W-Astro.log',\n",
    "    wcskey='GAIA',\n",
    "    context=False,\n",
    "    configobj=None,\n",
    "    num_cores=8,\n",
    "    in_memory=False,\n",
    "    build=True,\n",
    "    restore=False,\n",
    "    preserve=False,\n",
    "    clean=True,\n",
    "    skymethod='globalmin+match',\n",
    "    driz_sep_scale=0.03,\n",
    "    driz_sep_bits=DQ_GOOD_PIX,\n",
    "    combine_type='minmed',\n",
    "    driz_cr_corr=False,\n",
    "    final_wht_type='IVM',\n",
    "    final_pixfrac=0.8,\n",
    "    final_bits=DQ_GOOD_PIX,\n",
    "    final_wcs=True,\n",
    "    final_refimage='VCC1175-F814W_drc.fits'\n",
    ")"
   ]
  },
  {
   "cell_type": "code",
   "execution_count": null,
   "id": "b0dadaf1-5a4d-4032-87f8-15d3c0801ffb",
   "metadata": {
    "tags": []
   },
   "outputs": [],
   "source": [
    "%%bash\n",
    "# Move Log Files\n",
    "mkdir -p logs/astrodrizzle\n",
    "mv *.log logs/astrodrizzle\n",
    "\n",
    "# Move Final Drizzled Images\n",
    "mkdir -p ProcessedImages/HST/Drizzled\n",
    "mv *_dr?.fits ProcessedImages/HST/Drizzled/"
   ]
  }
 ],
 "metadata": {
  "kernelspec": {
   "display_name": "stenv",
   "language": "python",
   "name": "python3"
  },
  "language_info": {
   "codemirror_mode": {
    "name": "ipython",
    "version": 3
   },
   "file_extension": ".py",
   "mimetype": "text/x-python",
   "name": "python",
   "nbconvert_exporter": "python",
   "pygments_lexer": "ipython3",
   "version": "3.12.4"
  }
 },
 "nbformat": 4,
 "nbformat_minor": 5
}
